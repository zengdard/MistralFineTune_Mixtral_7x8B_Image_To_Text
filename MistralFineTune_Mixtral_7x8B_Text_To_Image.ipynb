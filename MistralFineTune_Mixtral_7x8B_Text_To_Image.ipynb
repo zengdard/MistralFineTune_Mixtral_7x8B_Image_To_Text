{
  "cells": [
    {
      "cell_type": "markdown",
      "metadata": {
        "id": "view-in-github",
        "colab_type": "text"
      },
      "source": [
        "<a href=\"https://colab.research.google.com/github/zengdard/MistralFineTune_Mixtral_7x8B_Image_To_Text/blob/main/MistralFineTune_Mixtral_7x8B_Text_To_Image.ipynb\" target=\"_parent\"><img src=\"https://colab.research.google.com/assets/colab-badge.svg\" alt=\"Open In Colab\"/></a>"
      ]
    },
    {
      "cell_type": "markdown",
      "source": [
        "## Install dependencies"
      ],
      "metadata": {
        "id": "lX618w9xs4Vy"
      }
    },
    {
      "cell_type": "code",
      "execution_count": 1,
      "metadata": {
        "colab": {
          "base_uri": "https://localhost:8080/"
        },
        "id": "mIIbTO9sGykQ",
        "outputId": "67b28e85-70b7-4e95-f063-20eb05376ed9"
      },
      "outputs": [
        {
          "output_type": "stream",
          "name": "stdout",
          "text": [
            "Collecting datasets\n",
            "  Downloading datasets-2.20.0-py3-none-any.whl (547 kB)\n",
            "\u001b[2K     \u001b[90m━━━━━━━━━━━━━━━━━━━━━━━━━━━━━━━━━━━━━━━━\u001b[0m \u001b[32m547.8/547.8 kB\u001b[0m \u001b[31m7.0 MB/s\u001b[0m eta \u001b[36m0:00:00\u001b[0m\n",
            "\u001b[?25hCollecting mistralai\n",
            "  Downloading mistralai-0.4.1-py3-none-any.whl (19 kB)\n",
            "Requirement already satisfied: filelock in /usr/local/lib/python3.10/dist-packages (from datasets) (3.15.1)\n",
            "Requirement already satisfied: numpy>=1.17 in /usr/local/lib/python3.10/dist-packages (from datasets) (1.25.2)\n",
            "Collecting pyarrow>=15.0.0 (from datasets)\n",
            "  Downloading pyarrow-16.1.0-cp310-cp310-manylinux_2_28_x86_64.whl (40.8 MB)\n",
            "\u001b[2K     \u001b[90m━━━━━━━━━━━━━━━━━━━━━━━━━━━━━━━━━━━━━━━━\u001b[0m \u001b[32m40.8/40.8 MB\u001b[0m \u001b[31m21.2 MB/s\u001b[0m eta \u001b[36m0:00:00\u001b[0m\n",
            "\u001b[?25hRequirement already satisfied: pyarrow-hotfix in /usr/local/lib/python3.10/dist-packages (from datasets) (0.6)\n",
            "Collecting dill<0.3.9,>=0.3.0 (from datasets)\n",
            "  Downloading dill-0.3.8-py3-none-any.whl (116 kB)\n",
            "\u001b[2K     \u001b[90m━━━━━━━━━━━━━━━━━━━━━━━━━━━━━━━━━━━━━━━━\u001b[0m \u001b[32m116.3/116.3 kB\u001b[0m \u001b[31m12.5 MB/s\u001b[0m eta \u001b[36m0:00:00\u001b[0m\n",
            "\u001b[?25hRequirement already satisfied: pandas in /usr/local/lib/python3.10/dist-packages (from datasets) (2.0.3)\n",
            "Collecting requests>=2.32.2 (from datasets)\n",
            "  Downloading requests-2.32.3-py3-none-any.whl (64 kB)\n",
            "\u001b[2K     \u001b[90m━━━━━━━━━━━━━━━━━━━━━━━━━━━━━━━━━━━━━━━━\u001b[0m \u001b[32m64.9/64.9 kB\u001b[0m \u001b[31m4.7 MB/s\u001b[0m eta \u001b[36m0:00:00\u001b[0m\n",
            "\u001b[?25hRequirement already satisfied: tqdm>=4.66.3 in /usr/local/lib/python3.10/dist-packages (from datasets) (4.66.4)\n",
            "Collecting xxhash (from datasets)\n",
            "  Downloading xxhash-3.4.1-cp310-cp310-manylinux_2_17_x86_64.manylinux2014_x86_64.whl (194 kB)\n",
            "\u001b[2K     \u001b[90m━━━━━━━━━━━━━━━━━━━━━━━━━━━━━━━━━━━━━━━━\u001b[0m \u001b[32m194.1/194.1 kB\u001b[0m \u001b[31m20.6 MB/s\u001b[0m eta \u001b[36m0:00:00\u001b[0m\n",
            "\u001b[?25hCollecting multiprocess (from datasets)\n",
            "  Downloading multiprocess-0.70.16-py310-none-any.whl (134 kB)\n",
            "\u001b[2K     \u001b[90m━━━━━━━━━━━━━━━━━━━━━━━━━━━━━━━━━━━━━━━━\u001b[0m \u001b[32m134.8/134.8 kB\u001b[0m \u001b[31m13.3 MB/s\u001b[0m eta \u001b[36m0:00:00\u001b[0m\n",
            "\u001b[?25hRequirement already satisfied: fsspec[http]<=2024.5.0,>=2023.1.0 in /usr/local/lib/python3.10/dist-packages (from datasets) (2023.6.0)\n",
            "Requirement already satisfied: aiohttp in /usr/local/lib/python3.10/dist-packages (from datasets) (3.9.5)\n",
            "Requirement already satisfied: huggingface-hub>=0.21.2 in /usr/local/lib/python3.10/dist-packages (from datasets) (0.23.4)\n",
            "Requirement already satisfied: packaging in /usr/local/lib/python3.10/dist-packages (from datasets) (24.1)\n",
            "Requirement already satisfied: pyyaml>=5.1 in /usr/local/lib/python3.10/dist-packages (from datasets) (6.0.1)\n",
            "Collecting httpx<1,>=0.25 (from mistralai)\n",
            "  Downloading httpx-0.27.0-py3-none-any.whl (75 kB)\n",
            "\u001b[2K     \u001b[90m━━━━━━━━━━━━━━━━━━━━━━━━━━━━━━━━━━━━━━━━\u001b[0m \u001b[32m75.6/75.6 kB\u001b[0m \u001b[31m9.6 MB/s\u001b[0m eta \u001b[36m0:00:00\u001b[0m\n",
            "\u001b[?25hCollecting orjson<3.11,>=3.9.10 (from mistralai)\n",
            "  Downloading orjson-3.10.5-cp310-cp310-manylinux_2_17_x86_64.manylinux2014_x86_64.whl (144 kB)\n",
            "\u001b[2K     \u001b[90m━━━━━━━━━━━━━━━━━━━━━━━━━━━━━━━━━━━━━━━━\u001b[0m \u001b[32m145.0/145.0 kB\u001b[0m \u001b[31m16.7 MB/s\u001b[0m eta \u001b[36m0:00:00\u001b[0m\n",
            "\u001b[?25hRequirement already satisfied: pydantic<3,>=2.5.2 in /usr/local/lib/python3.10/dist-packages (from mistralai) (2.7.4)\n",
            "Requirement already satisfied: aiosignal>=1.1.2 in /usr/local/lib/python3.10/dist-packages (from aiohttp->datasets) (1.3.1)\n",
            "Requirement already satisfied: attrs>=17.3.0 in /usr/local/lib/python3.10/dist-packages (from aiohttp->datasets) (23.2.0)\n",
            "Requirement already satisfied: frozenlist>=1.1.1 in /usr/local/lib/python3.10/dist-packages (from aiohttp->datasets) (1.4.1)\n",
            "Requirement already satisfied: multidict<7.0,>=4.5 in /usr/local/lib/python3.10/dist-packages (from aiohttp->datasets) (6.0.5)\n",
            "Requirement already satisfied: yarl<2.0,>=1.0 in /usr/local/lib/python3.10/dist-packages (from aiohttp->datasets) (1.9.4)\n",
            "Requirement already satisfied: async-timeout<5.0,>=4.0 in /usr/local/lib/python3.10/dist-packages (from aiohttp->datasets) (4.0.3)\n",
            "Requirement already satisfied: anyio in /usr/local/lib/python3.10/dist-packages (from httpx<1,>=0.25->mistralai) (3.7.1)\n",
            "Requirement already satisfied: certifi in /usr/local/lib/python3.10/dist-packages (from httpx<1,>=0.25->mistralai) (2024.6.2)\n",
            "Collecting httpcore==1.* (from httpx<1,>=0.25->mistralai)\n",
            "  Downloading httpcore-1.0.5-py3-none-any.whl (77 kB)\n",
            "\u001b[2K     \u001b[90m━━━━━━━━━━━━━━━━━━━━━━━━━━━━━━━━━━━━━━━━\u001b[0m \u001b[32m77.9/77.9 kB\u001b[0m \u001b[31m7.6 MB/s\u001b[0m eta \u001b[36m0:00:00\u001b[0m\n",
            "\u001b[?25hRequirement already satisfied: idna in /usr/local/lib/python3.10/dist-packages (from httpx<1,>=0.25->mistralai) (3.7)\n",
            "Requirement already satisfied: sniffio in /usr/local/lib/python3.10/dist-packages (from httpx<1,>=0.25->mistralai) (1.3.1)\n",
            "Collecting h11<0.15,>=0.13 (from httpcore==1.*->httpx<1,>=0.25->mistralai)\n",
            "  Downloading h11-0.14.0-py3-none-any.whl (58 kB)\n",
            "\u001b[2K     \u001b[90m━━━━━━━━━━━━━━━━━━━━━━━━━━━━━━━━━━━━━━━━\u001b[0m \u001b[32m58.3/58.3 kB\u001b[0m \u001b[31m7.6 MB/s\u001b[0m eta \u001b[36m0:00:00\u001b[0m\n",
            "\u001b[?25hRequirement already satisfied: typing-extensions>=3.7.4.3 in /usr/local/lib/python3.10/dist-packages (from huggingface-hub>=0.21.2->datasets) (4.12.2)\n",
            "Requirement already satisfied: annotated-types>=0.4.0 in /usr/local/lib/python3.10/dist-packages (from pydantic<3,>=2.5.2->mistralai) (0.7.0)\n",
            "Requirement already satisfied: pydantic-core==2.18.4 in /usr/local/lib/python3.10/dist-packages (from pydantic<3,>=2.5.2->mistralai) (2.18.4)\n",
            "Requirement already satisfied: charset-normalizer<4,>=2 in /usr/local/lib/python3.10/dist-packages (from requests>=2.32.2->datasets) (3.3.2)\n",
            "Requirement already satisfied: urllib3<3,>=1.21.1 in /usr/local/lib/python3.10/dist-packages (from requests>=2.32.2->datasets) (2.0.7)\n",
            "Requirement already satisfied: python-dateutil>=2.8.2 in /usr/local/lib/python3.10/dist-packages (from pandas->datasets) (2.8.2)\n",
            "Requirement already satisfied: pytz>=2020.1 in /usr/local/lib/python3.10/dist-packages (from pandas->datasets) (2023.4)\n",
            "Requirement already satisfied: tzdata>=2022.1 in /usr/local/lib/python3.10/dist-packages (from pandas->datasets) (2024.1)\n",
            "Requirement already satisfied: six>=1.5 in /usr/local/lib/python3.10/dist-packages (from python-dateutil>=2.8.2->pandas->datasets) (1.16.0)\n",
            "Requirement already satisfied: exceptiongroup in /usr/local/lib/python3.10/dist-packages (from anyio->httpx<1,>=0.25->mistralai) (1.2.1)\n",
            "Installing collected packages: xxhash, requests, pyarrow, orjson, h11, dill, multiprocess, httpcore, httpx, mistralai, datasets\n",
            "  Attempting uninstall: requests\n",
            "    Found existing installation: requests 2.31.0\n",
            "    Uninstalling requests-2.31.0:\n",
            "      Successfully uninstalled requests-2.31.0\n",
            "  Attempting uninstall: pyarrow\n",
            "    Found existing installation: pyarrow 14.0.2\n",
            "    Uninstalling pyarrow-14.0.2:\n",
            "      Successfully uninstalled pyarrow-14.0.2\n",
            "\u001b[31mERROR: pip's dependency resolver does not currently take into account all the packages that are installed. This behaviour is the source of the following dependency conflicts.\n",
            "cudf-cu12 24.4.1 requires pyarrow<15.0.0a0,>=14.0.1, but you have pyarrow 16.1.0 which is incompatible.\n",
            "google-colab 1.0.0 requires requests==2.31.0, but you have requests 2.32.3 which is incompatible.\n",
            "ibis-framework 8.0.0 requires pyarrow<16,>=2, but you have pyarrow 16.1.0 which is incompatible.\u001b[0m\u001b[31m\n",
            "\u001b[0mSuccessfully installed datasets-2.20.0 dill-0.3.8 h11-0.14.0 httpcore-1.0.5 httpx-0.27.0 mistralai-0.4.1 multiprocess-0.70.16 orjson-3.10.5 pyarrow-16.1.0 requests-2.32.3 xxhash-3.4.1\n"
          ]
        }
      ],
      "source": [
        "! pip install datasets mistralai"
      ]
    },
    {
      "cell_type": "markdown",
      "source": [
        "## Download Dataset from HF"
      ],
      "metadata": {
        "id": "RMB1U1kYtToQ"
      }
    },
    {
      "cell_type": "code",
      "source": [
        "from datasets import load_dataset\n",
        "dataset = load_dataset('kopyl/833-icons-dataset-1024-blip-large')"
      ],
      "metadata": {
        "colab": {
          "base_uri": "https://localhost:8080/",
          "height": 237,
          "referenced_widgets": [
            "06d5d01c2530449f9d6064acf85a0d08",
            "6aa6a30a0bcf422fb6205ee06ace8a9a",
            "4e174d82ea0344a781b5eb0f2eca15d9",
            "3ab54ca77e8e4b9b999d3d8c4508e4ed",
            "79153d71b2a141e09a3d787af7fcbda1",
            "cf4640aa50ac49d19bebe493860b3dde",
            "682761f470ec425889a33c0fb0a49498",
            "8c44df23a22f4599bf147b0afeadd5b9",
            "37b0993cc4be414d84ac80d75ce1d0c9",
            "5eb66ae285284606a5f537f3287c6992",
            "039de7af84e54d04b234d37134d1c993",
            "8afb6c25de38457397eb1cec585eff64",
            "258ddc63643343e595fb40621dbd2311",
            "308b582dae0c41b895cf25670d460779",
            "bc161cc8ee7344c9a97bf22df108e1c9",
            "42564767161c48f89aeeffded558f8a9",
            "ade3e48140524633b52b7a9a516b1507",
            "1fbdaa45aa0e4b8eb94ed764c8206231",
            "4de4d861fb7b47de90b86c7e67818102",
            "de52064d005442d38ff482ddef96fab7",
            "f314bebc21674e05b8a3bb8c820a13e9",
            "27d1589cfdff472ab6ec4810d21ea094",
            "7ec6e17eb3c840b98e376c85f26a5ead",
            "af789ec034a0425494debf2cdba7ee57",
            "f2953a907a8b4f5fa9673a398416b6d7",
            "e98cd788c59a43688d23a7bf60fdf64d",
            "1ea14d5f4bd54571b22bc847a84ec887",
            "9bd5ec47ab0a485d9389c918af068fc8",
            "32e3def598404d25968e442cfca68ef8",
            "4739e966014e433a90e48f82676f24e4",
            "f6e48505beae4c4fabca91c77059aa7f",
            "ba564cc2c94c4a43b804745b9216013e",
            "f56594cdb6fe4ef28467372ff5e5e762"
          ]
        },
        "id": "bpCvtV9AwtPh",
        "outputId": "7e44a1f3-76e6-4111-bf64-227da42b6cd4"
      },
      "execution_count": 2,
      "outputs": [
        {
          "output_type": "stream",
          "name": "stderr",
          "text": [
            "/usr/local/lib/python3.10/dist-packages/huggingface_hub/utils/_token.py:89: UserWarning: \n",
            "The secret `HF_TOKEN` does not exist in your Colab secrets.\n",
            "To authenticate with the Hugging Face Hub, create a token in your settings tab (https://huggingface.co/settings/tokens), set it as secret in your Google Colab and restart your session.\n",
            "You will be able to reuse this secret in all of your notebooks.\n",
            "Please note that authentication is recommended but still optional to access public models or datasets.\n",
            "  warnings.warn(\n"
          ]
        },
        {
          "output_type": "display_data",
          "data": {
            "text/plain": [
              "Downloading readme:   0%|          | 0.00/500 [00:00<?, ?B/s]"
            ],
            "application/vnd.jupyter.widget-view+json": {
              "version_major": 2,
              "version_minor": 0,
              "model_id": "06d5d01c2530449f9d6064acf85a0d08"
            }
          },
          "metadata": {}
        },
        {
          "output_type": "display_data",
          "data": {
            "text/plain": [
              "Downloading data:   0%|          | 0.00/19.8M [00:00<?, ?B/s]"
            ],
            "application/vnd.jupyter.widget-view+json": {
              "version_major": 2,
              "version_minor": 0,
              "model_id": "8afb6c25de38457397eb1cec585eff64"
            }
          },
          "metadata": {}
        },
        {
          "output_type": "display_data",
          "data": {
            "text/plain": [
              "Generating train split:   0%|          | 0/833 [00:00<?, ? examples/s]"
            ],
            "application/vnd.jupyter.widget-view+json": {
              "version_major": 2,
              "version_minor": 0,
              "model_id": "7ec6e17eb3c840b98e376c85f26a5ead"
            }
          },
          "metadata": {}
        }
      ]
    },
    {
      "cell_type": "markdown",
      "source": [
        "## Convert Image to Text with Ascii Characters"
      ],
      "metadata": {
        "id": "LBKfMzYStY0h"
      }
    },
    {
      "cell_type": "code",
      "execution_count": 80,
      "metadata": {
        "id": "0GmuRIbhHB23",
        "colab": {
          "base_uri": "https://localhost:8080/"
        },
        "outputId": "c1576a94-c673-4ac5-8cc0-dc44bdc8577b"
      },
      "outputs": [
        {
          "output_type": "stream",
          "name": "stdout",
          "text": [
            "Conversion and JSONL file creation completed.\n"
          ]
        }
      ],
      "source": [
        "import json\n",
        "import PIL\n",
        "from PIL import Image\n",
        "import requests\n",
        "from io import BytesIO\n",
        "import matplotlib.pyplot as plt\n",
        "# ASCII characters used to build the output text\n",
        "ASCII_CHARS = list(\"$@%&#*/\\1{}?-_+~<>i!I;:,\\\"^`'. \")\n",
        "\n",
        "def resize_image(image, new_width=80):\n",
        "    width, height = image.size\n",
        "    ratio = height / width\n",
        "    new_height = int(new_width * ratio)\n",
        "    resized_image = image.resize((new_width, new_height))\n",
        "    return resized_image\n",
        "\n",
        "def grayify(image):\n",
        "    grayscale_image = image.convert(\"L\")\n",
        "    return grayscale_image\n",
        "\n",
        "def pixels_to_ascii(image):\n",
        "    pixels = image.getdata()\n",
        "    ascii_str = \"\".join([ASCII_CHARS[pixel * (len(ASCII_CHARS) - 1) // 255] for pixel in pixels])\n",
        "    return ascii_str\n",
        "\n",
        "def image_to_ascii(image, new_width=80):\n",
        "    gray_image = grayify(resize_image(image, new_width))\n",
        "    ascii_str = pixels_to_ascii(gray_image)\n",
        "    pixel_count = len(ascii_str)\n",
        "    ascii_image = \"\\n\".join([ascii_str[index:(index + new_width)] for index in range(0, pixel_count, new_width)])\n",
        "    return ascii_image\n",
        "\n",
        "\n",
        "# Convert dataset to conversational JSONL format\n",
        "jsonl_data = []\n",
        "x = 0\n",
        "for entry in dataset['train']:\n",
        "  ascii_art = image_to_ascii(entry['image']).replace('                                                                                ', '')\n",
        "  messages = [\n",
        "      {\"role\": \"user\", \"content\":  entry['text']},\n",
        "      {\"role\": \"assistant\", \"content\": ascii_art}\n",
        "  ]\n",
        "  jsonl_entry = {\"messages\": messages}\n",
        "  jsonl_data.append(jsonl_entry)\n",
        "\n",
        "# Save to JSONL file\n",
        "with open('fine_tune_data.jsonl', 'w+') as jsonl_file:\n",
        "    for entry in jsonl_data:\n",
        "        jsonl_file.write(json.dumps(entry) + '\\n')\n",
        "\n",
        "print(\"Conversion and JSONL file creation completed.\")\n"
      ]
    },
    {
      "cell_type": "code",
      "execution_count": 81,
      "metadata": {
        "colab": {
          "base_uri": "https://localhost:8080/"
        },
        "id": "N9gg4Vt1HA5j",
        "outputId": "12a355ef-1cfc-40ff-efd5-449972b94f6a"
      },
      "outputs": [
        {
          "output_type": "stream",
          "name": "stdout",
          "text": [
            "\n",
            "\n",
            "\n",
            "\n",
            "\n",
            "\n",
            "\n",
            "\n",
            "\n",
            "\n",
            "\n",
            "\n",
            "\n",
            "\n",
            "\n",
            "                                             .'`^^`.`.                          \n",
            "                                           '^^`'... .                           \n",
            "                                         '^`.                                   \n",
            "                                       .^`.   '`^^^^^`'.                        \n",
            "                                      `^'  .`^^''....'`^`.                      \n",
            "                                    .`^. .`^'.         .'\"'                     \n",
            "                                    '`  '^`   .'^^^^^`.  .^`                    \n",
            "                                       '^.  '^^`'....'^^.  ^`                   \n",
            "                  .,\".                '^. .^^' '  ^'   '^'  ^'                  \n",
            "                 .,ii^               '^. .\"'   '^^'     .^' .^.                 \n",
            "                .:!!!!,             .\". .\".     \",.    ''.\". `'                 \n",
            "                .!i!!iI.            ^' .\"..   .^''^.  `^. '` .^                 \n",
            "                 \";;;;^            '` .^' `` .^'  '^ '^    ^. ^.                \n",
            "                                  .^. ``  .^`^'    ',^     `' `'                \n",
            "                                  '` .^    .:\"     '\"^.    '` `'                \n",
            "                         '.       ^. `'   .^'^`   `^ '^. .`'` '`                \n",
            "                        ^!I'     .^  ^.  .^'  ^` `^   '^.\".'` '`                \n",
            "                       ^I!!;`    .^ .^.' ^'    ^\"^     ';. '` `'                \n",
            "                      '!!!!i;    '` '`.^,'     ':`    .^`^.`' `'                \n",
            "                      .;i!!i,    `' `'.^,'    `^.^`  .\". '.^. ^.                \n",
            "                       .````.    `' `'`' ^`  `^   ^`.\".   '^ .^                 \n",
            "                                 `` `'.   ^''^     ^:.    ^' ``                 \n",
            "                                 ^\" '`     ,,     .^\"`   '^  ^.                 \n",
            "                                 \"\" .^    `^^`   .\". ^` .\". '`                  \n",
            "                                .^\". ^.  `^  ^` .\".   ' ^' .\".                  \n",
            "                                .``` .^ '^    ^`^.     ^`  ^'                   \n",
            "                                '`.\". ``      .;`    .^`  ``                    \n",
            "                                `' \"^  ^^.   .\".`. .`\"'  `^                     \n",
            "                                ^. ^^'  `^`. ..  '`^`.  `^                      \n",
            "                               .^ .^.^'  .`^^^^^^^'.  .^`  '.                   \n",
            "                               '` '`.',\".   ....    .`^'  '^.                   \n",
            "                               `' '\"^^'`\"^'.     .'^^'  .^^.                    \n",
            "                               ^. ..     `,;:^^^^^`'   '^`                      \n",
            "                              `^    .'`^^^`'.....    '^^.                       \n",
            "                             `^  '`^^^`'.        .'`^^.                         \n",
            "                            .`  '^'.       .` `^^^`'.                           \n",
            "                          ^<^  '^.         .. ...                               \n",
            "                         ^_?_^ ^.                                               \n",
            "                        ^_---_^       .^:;\".                                    \n",
            "                       ^_----?,      .!~~><i^                                   \n",
            "                      ^_-----I.     .!<i~>>>>'                                  \n",
            "                     ^_-----I.      `<i>~>>><;                                  \n",
            "                    ^_-----I.       ,~<~>>>>>!.                                 \n",
            "                   ^_?----I.        ,<<>>><~~!.                                 \n",
            "                   >?-?--I.         `>>>><<><I                                  \n",
            "                   ^+--?I.          .I>>>~>><`                                  \n",
            "                    `+?I.            '!<>~<<,                                   \n",
            "                     `,               .\"I!;`                                    \n",
            "\n",
            "\n",
            "\n",
            "\n",
            "\n",
            "\n",
            "\n",
            "\n",
            "\n",
            "\n",
            "\n",
            "\n",
            "\n",
            "\n",
            "\n",
            "\n",
            "\n"
          ]
        }
      ],
      "source": [
        "print(ascii_art)   #Print last one for example"
      ]
    },
    {
      "cell_type": "markdown",
      "source": [
        "## Save and Make the Train & Valid dataset"
      ],
      "metadata": {
        "id": "xxyBjcDXvSgh"
      }
    },
    {
      "cell_type": "code",
      "source": [
        "import os\n",
        "import json\n",
        "import random\n",
        "input_file_path = 'fine_tune_data.jsonl'\n",
        "# Paths for output files\n",
        "train_file_path = 'trainI2T.jsonl'\n",
        "valid_file_path = 'validI2T.jsonl'\n",
        "\n",
        "# Read data from JSONL file\n",
        "with open(input_file_path, 'r') as f:\n",
        "    data = [json.loads(line) for line in f]\n",
        "\n",
        "# Shuffle the data\n",
        "random.shuffle(data)\n",
        "\n",
        "split_index = int(len(data) * 0.98)\n",
        "\n",
        "valid_data = data[split_index:]   # The last 80% of the data for training\n",
        "train_data = data[:split_index]\n",
        "\n",
        "# Save the data to output files\n",
        "with open(train_file_path, 'w+') as f:\n",
        "    for item in train_data:\n",
        "        f.write(json.dumps(item) + '\\n')\n",
        "\n",
        "with open(valid_file_path, 'w+') as f:\n",
        "    for item in valid_data:\n",
        "        f.write(json.dumps(item) + '\\n')\n",
        "\n",
        "with open('file.json', 'w+') as f:\n",
        "    for item in valid_data:\n",
        "        f.write(json.dumps(item) + '\\n')\n",
        "\n",
        "print('Files have been successfully split and saved.')\n"
      ],
      "metadata": {
        "colab": {
          "base_uri": "https://localhost:8080/"
        },
        "id": "I_i6n7HcS4If",
        "outputId": "a4a436bc-34dd-4b32-a361-fd0d9a0183cb"
      },
      "execution_count": 82,
      "outputs": [
        {
          "output_type": "stream",
          "name": "stdout",
          "text": [
            "Files have been successfully split and saved.\n"
          ]
        }
      ]
    },
    {
      "cell_type": "code",
      "source": [
        "print(len(valid_data), len(train_data))  ##"
      ],
      "metadata": {
        "colab": {
          "base_uri": "https://localhost:8080/"
        },
        "id": "UF9VYq5xVLM2",
        "outputId": "33fc8651-eb57-4f8b-a0bf-d0fb2557e136"
      },
      "execution_count": 83,
      "outputs": [
        {
          "output_type": "stream",
          "name": "stdout",
          "text": [
            "17 816\n"
          ]
        }
      ]
    },
    {
      "cell_type": "markdown",
      "source": [
        "## Upload to Mistral Api"
      ],
      "metadata": {
        "id": "aUYee4E-vPQP"
      }
    },
    {
      "cell_type": "code",
      "source": [
        "import os\n",
        "from mistralai.client import MistralClient\n",
        "\n",
        "api_key = 'lQP5Ft6pf6j4wHlEdyIWskWjOgmMfrwq'\n",
        "client = MistralClient(api_key=api_key)\n",
        "\n",
        "with open(\"trainI2T.jsonl\", \"rb\") as f:\n",
        "    training_data = client.files.create(file=(\"train.jsonl\", f))\n",
        "with open(\"validI2T.jsonl\", \"rb\") as f1:\n",
        "    valid_mistral_data = client.files.create(file=(\"valid.jsonl\", f1))"
      ],
      "metadata": {
        "id": "FW2zvNCqXKMv"
      },
      "execution_count": 86,
      "outputs": []
    },
    {
      "cell_type": "code",
      "source": [
        "print(valid_mistral_data, training_data) ## See Weights"
      ],
      "metadata": {
        "colab": {
          "base_uri": "https://localhost:8080/"
        },
        "id": "VGffLUM6UXwR",
        "outputId": "9297b4db-2367-4126-ff48-04ee5825aed3"
      },
      "execution_count": 85,
      "outputs": [
        {
          "output_type": "stream",
          "name": "stdout",
          "text": [
            "id='ae5e39ed-c949-4d8d-9ede-f44becc55234' object='file' bytes=72180 created_at=1719060003 filename='validI2T.jsonl' purpose='fine-tune' id='0d7f83f8-7c58-46e4-a11e-a9e63f0137b2' object='file' bytes=3418885 created_at=1719060002 filename='trainI2T.jsonl' purpose='fine-tune'\n"
          ]
        }
      ]
    },
    {
      "cell_type": "code",
      "source": [
        "from mistralai.models.jobs import TrainingParameters, WandbIntegrationIn\n",
        "\n",
        "wandb_api_key = 'c6057737a2cf82f0903240fb924a76b6b365c0c7'\n",
        "\n",
        "created_jobs = client.jobs.create(\n",
        "    model=\"open-mistral-7b\",\n",
        "    training_files=[training_data.id],\n",
        "    validation_files=[valid_mistral_data.id],\n",
        "    hyperparameters=TrainingParameters(\n",
        "        training_steps=50,\n",
        "        learning_rate=2.0e-4,  ## Learning rate\n",
        "        ),\n",
        "\n",
        "    integrations=[\n",
        "        WandbIntegrationIn(\n",
        "            project=\"Mistral_I2T\",\n",
        "            run_name=\"Run_1\",\n",
        "            api_key=wandb_api_key,\n",
        "        ).dict()\n",
        "    ]\n",
        ")"
      ],
      "metadata": {
        "id": "KrvO5GxNUDz2"
      },
      "execution_count": 87,
      "outputs": []
    },
    {
      "cell_type": "code",
      "source": [
        "created_jobs"
      ],
      "metadata": {
        "id": "gTJnNdLqYDd4",
        "colab": {
          "base_uri": "https://localhost:8080/"
        },
        "outputId": "6801cd96-8daa-4907-d38a-a07850079e62"
      },
      "execution_count": 88,
      "outputs": [
        {
          "output_type": "execute_result",
          "data": {
            "text/plain": [
              "Job(id='50af26fd-1d1b-48c9-8d98-4a2bad2cf328', hyperparameters=TrainingParameters(training_steps=50, learning_rate=0.0002), fine_tuned_model=None, model='open-mistral-7b', status='QUEUED', job_type='FT', created_at=1719060207, modified_at=1719060207, training_files=['8697eb66-72e6-45b2-8df0-3af6c9fed4b6'], validation_files=['fc6280ae-8627-46b2-9ed7-4ed7ec028c92'], object='job', integrations=[WandbIntegration(type='wandb', project='Mistral_I2T', name=None, run_name='Run_1')])"
            ]
          },
          "metadata": {},
          "execution_count": 88
        }
      ]
    },
    {
      "cell_type": "markdown",
      "source": [
        "## Make inference with the FineTune Model"
      ],
      "metadata": {
        "id": "P-qBuJ6pvllJ"
      }
    },
    {
      "cell_type": "code",
      "source": [
        "jobs = client.jobs.list()\n",
        "retrieved_jobs = client.jobs.retrieve(created_jobs.id)\n",
        "print(retrieved_jobs)"
      ],
      "metadata": {
        "colab": {
          "base_uri": "https://localhost:8080/"
        },
        "id": "09xkiF4RSfNA",
        "outputId": "984019c3-402e-44b9-f6ec-405755f9102d"
      },
      "execution_count": 32,
      "outputs": [
        {
          "output_type": "stream",
          "name": "stdout",
          "text": [
            "data=[Job(id='ffa53cd3-60d3-4744-822f-45750a4fe9ec', hyperparameters=TrainingParameters(training_steps=100, learning_rate=0.0002), fine_tuned_model='ft:open-mistral-7b:569ba51c:20240622:ffa53cd3', model='open-mistral-7b', status='SUCCESS', job_type='FT', created_at=1719052310, modified_at=1719052749, training_files=['cef0c3ed-8815-48bc-be69-52e941f20843'], validation_files=['6e20f43e-6050-48c2-82f2-5a1e096282ef'], object='job', integrations=[WandbIntegration(type='wandb', project='Mistral_Text2image', name=None, run_name='Run_2')]), Job(id='4373718c-e3ff-4955-be4e-69373a82792a', hyperparameters=TrainingParameters(training_steps=10, learning_rate=0.0001), fine_tuned_model='ft:open-mistral-7b:569ba51c:20240622:4373718c', model='open-mistral-7b', status='SUCCESS', job_type='FT', created_at=1719052191, modified_at=1719052277, training_files=['cef0c3ed-8815-48bc-be69-52e941f20843'], validation_files=['6e20f43e-6050-48c2-82f2-5a1e096282ef'], object='job', integrations=[WandbIntegration(type='wandb', project='Mistral_Text2image', name=None, run_name='Run_2')]), Job(id='f9b11c6b-bb28-46a1-a956-f0d105051a1c', hyperparameters=TrainingParameters(training_steps=200, learning_rate=0.0001), fine_tuned_model='ft:open-mistral-7b:569ba51c:20240621:f9b11c6b', model='open-mistral-7b', status='SUCCESS', job_type='FT', created_at=1718996981, modified_at=1718997931, training_files=['39b78a1f-3666-42c3-ad9b-05fd5c07ca35'], validation_files=['5bcf1aa1-a192-4726-bf89-1ddc8b873f54'], object='job', integrations=[WandbIntegration(type='wandb', project='Mistral_CV', name=None, run_name='Run_1')]), Job(id='4e23e799-bd81-47e4-8ab4-216286849b86', hyperparameters=TrainingParameters(training_steps=10, learning_rate=0.0001), fine_tuned_model='ft:open-mistral-7b:569ba51c:20240621:4e23e799', model='open-mistral-7b', status='SUCCESS', job_type='FT', created_at=1718966512, modified_at=1718968137, training_files=['7aa149d6-195e-47d6-9411-f480f27db350'], validation_files=['61862c7d-4f41-4b6a-9b88-a8cb52703af1'], object='job', integrations=[WandbIntegration(type='wandb', project='test_api', name=None, run_name='test')]), Job(id='2bd4449a-9c72-4201-8652-a99365d11249', hyperparameters=TrainingParameters(training_steps=10, learning_rate=0.0001), fine_tuned_model='ft:open-mistral-7b:569ba51c:20240620:2bd4449a', model='open-mistral-7b', status='SUCCESS', job_type='FT', created_at=1718912227, modified_at=1718912472, training_files=['c8eef347-95f5-492e-ba46-87e69d155cde'], validation_files=[], object='job', integrations=[WandbIntegration(type='wandb', project='test_api', name=None, run_name='test')])] object='list'\n",
            "id='ffa53cd3-60d3-4744-822f-45750a4fe9ec' hyperparameters=TrainingParameters(training_steps=100, learning_rate=0.0002) fine_tuned_model='ft:open-mistral-7b:569ba51c:20240622:ffa53cd3' model='open-mistral-7b' status='SUCCESS' job_type='FT' created_at=1719052310 modified_at=1719052749 training_files=['cef0c3ed-8815-48bc-be69-52e941f20843'] validation_files=['6e20f43e-6050-48c2-82f2-5a1e096282ef'] object='job' integrations=[WandbIntegration(type='wandb', project='Mistral_Text2image', name=None, run_name='Run_2')] events=[Event(name='status-updated', data={'status': 'SUCCESS'}, created_at=1719052748), Event(name='status-updated', data={'status': 'RUNNING'}, created_at=1719052311), Event(name='status-updated', data={'status': 'QUEUED'}, created_at=1719052310)] checkpoints=[Checkpoint(metrics=Metric(train_loss=0.121068, valid_loss=2.442238, valid_mean_token_accuracy=5.434842), step_number=100, created_at=1719052722), Checkpoint(metrics=Metric(train_loss=0.18757, valid_loss=2.153039, valid_mean_token_accuracy=4.447636), step_number=80, created_at=1719052647), Checkpoint(metrics=Metric(train_loss=0.397778, valid_loss=1.604781, valid_mean_token_accuracy=3.041496), step_number=60, created_at=1719052568), Checkpoint(metrics=Metric(train_loss=0.633907, valid_loss=1.674208, valid_mean_token_accuracy=3.191441), step_number=40, created_at=1719052481), Checkpoint(metrics=Metric(train_loss=1.275685, valid_loss=1.350794, valid_mean_token_accuracy=2.550525), step_number=20, created_at=1719052404)] estimated_start_time=None\n"
          ]
        }
      ]
    },
    {
      "cell_type": "code",
      "source": [
        "from mistralai.models.chat_completion import ChatMessage\n",
        "from PIL import Image\n",
        "import matplotlib.pyplot as plt\n",
        "\n",
        "\n",
        "# Change Index From 0 and 16 number | From Valid Dataset\n",
        "index = 5  ## Change 'index to try with multiple images\n",
        "\n",
        "\n",
        "# Retrieve the content of the first message in the training data\n",
        "content = train_data[index:][0]['messages']\n",
        "image_in_ascii = content[0]['content']\n",
        "content_prompt = train_data[index:][0]['messages'][-1]['content']\n",
        "\n",
        "# Perform inference with the model\n",
        "chat_response = client.chat(\n",
        "    model=retrieved_jobs.fine_tuned_model,\n",
        "    messages=[ChatMessage(role='user', content=content_prompt)]\n",
        ")\n",
        "\n",
        "def find_text_and_display_image(dataset, search_text):\n",
        "    # Iterate through each example in the dataset\n",
        "    for example in dataset['train']:\n",
        "        if example['text'] == search_text:\n",
        "            # Display the corresponding text\n",
        "            print(f\"{example['text']}\")\n",
        "            plt.imshow(example['image'])\n",
        "            plt.axis('off')\n",
        "            plt.show()\n",
        "            return\n",
        "    print(\"Image Don't Find\")\n",
        "\n",
        "# Search for a specific text and display the corresponding image\n",
        "search_text = content_prompt\n",
        "print(search_text)\n",
        "find_text_and_display_image(dataset, search_text)\n",
        "#print('Image : ', image_in_ascii)  #Print Image in ASCII\n",
        "print('True Description :', content_prompt)\n",
        "print('Model Description :', chat_response.choices[0].message.content)\n"
      ],
      "metadata": {
        "id": "9GX3E4c8H7Zg",
        "colab": {
          "base_uri": "https://localhost:8080/"
        },
        "outputId": "33dd79f3-d259-403c-bc6a-a011a4af913f"
      },
      "execution_count": 93,
      "outputs": [
        {
          "output_type": "stream",
          "name": "stdout",
          "text": [
            "\n",
            "\n",
            "\n",
            "\n",
            "\n",
            "\n",
            "\n",
            "\n",
            "\n",
            "\n",
            "\n",
            "\n",
            "\n",
            "\n",
            "\n",
            "                         .^^.                                                   \n",
            "                         ^''^.                                                  \n",
            "                         ^  ^.                                                  \n",
            "                         '^^`       .`^\"\"\"^'.                                   \n",
            "                          ..     .^;!iiiiiii!:`                                 \n",
            "                                ^!ii!!!!ii!!!iiI`                               \n",
            "                              ';i!!!!!!!i>>>>i!ii:.                             \n",
            "                             `!i!!!!!!!!!!!!i><i!iI.                            \n",
            "                    .^^`    `ii!!!!!!!!!!!!!!!!>>!iI.                           \n",
            "                    `'.^.  '!i!!!!!!!!!!!!!!!!!!i>!iI.                          \n",
            "                    `' ^' .;i!!!!!!!!!!!!!!!!!!!!i>!i,                          \n",
            "                    .^^`  \"i!!!!!!!!!!!!!!!!!!!!!!i>!i`                         \n",
            "                      .  .!!!!!!!!!!!!!!!!!!!!!!!!!>ii;                         \n",
            "                         ^i!!!!!!!!!!!!!!!!!!!!!!!!i>!i'                        \n",
            "                         ;i!!!!!!!!!!!!!!!!!!!!!!!!!>ii,                        \n",
            "                        .i!!!!!!!!!!!!!!!!!!!!!!!!!!i>!I.                       \n",
            "                        `i!!!!!!!!!!!!!!!!!!!!!!!!!!!>!i.                       \n",
            "                        \"i!!!!!!!!!!!!!!!!!!!!!!!!!!!>!i`                       \n",
            "                        ,i!!!!!!!!!!!!!!!!!!!!!!!!!!!>ii^                       \n",
            "                        ,i!!!!!!!!!!!!!!!!!!!!!!!!!!!i!i^                       \n",
            "                        \"i!!!!!!!!!!!!!!!!!!!!!!!!!!!!!i` .`                    \n",
            "                        'i!!!!!!!!!!!!!!!!!!!!!!!!!!!!iI. .^                    \n",
            "                         ^iiiiiiiiiiiiiiiiiiiiiiiiiiii!'  .^                    \n",
            "                          ',;;;;;:;;;:;;;:;;:;;:;:;;:\".   .^                    \n",
            "                                     .         .          .^                    \n",
            "                              '` ^`'.^   `'.^ .^ `'       .^                    \n",
            "                     `.       '` ^`'.^   `'.^ .^ `'       .^                    \n",
            "                     '        '` ^`'.^   `'.^ .^ `'       .^                    \n",
            "                     .        `'.^''.^   `'.^ .^ `'       ..                    \n",
            "                     ^.       `'.^''.^   `'.^  ^.'`       .'                    \n",
            "                     ^.       ^.'`''.^   `'.^  ^..^       .'                    \n",
            "                     ^.      .^ `'''.^   `'.^  `' ^                             \n",
            "                     ^.      '` ^.'` ^   `'.^  .^ ^.                            \n",
            "                     ^.      ^..^ '` ^   `'.^   ^.'`                            \n",
            "                     ^.     .^ `' .^ ^.  `'.^   `' ^.                           \n",
            "                     ^.     ^'.^. .^ `'  `'.^   .^ '`                           \n",
            "                     `.    '^ ``   ^.'`  `'.^    `' ^.                          \n",
            "                          .\"..^.   `'.^  `'.^    .^..^.                         \n",
            "                          ^' ^'    .^ ^. `'.^     '` ``                         \n",
            "                         '^ '^      ^.'` `'.^      ^' ^'                        \n",
            "                         ^ .^.      `'.^ `'.^      .\"..^                        \n",
            "                         `^^.       .^ `'`'.^       '^^'                        \n",
            "                          '.         ^.'``'.^        ..                         \n",
            "                                     '`.^`'.^                                   \n",
            "                                     .^\"'`'.^                                   \n",
            "                                       . `'.^                                   \n",
            "                                         `'.^                                   \n",
            "                                         `'.^                                   \n",
            "                                         ``'`                                   \n",
            "                                         .`^.                                   \n",
            "\n",
            "\n",
            "\n",
            "\n",
            "\n",
            "\n",
            "\n",
            "\n",
            "\n",
            "\n",
            "\n",
            "\n",
            "\n",
            "\n",
            "\n",
            "Image Don't Find\n",
            "True Description : \n",
            "\n",
            "\n",
            "\n",
            "\n",
            "\n",
            "\n",
            "\n",
            "\n",
            "\n",
            "\n",
            "\n",
            "\n",
            "\n",
            "\n",
            "                         .^^.                                                   \n",
            "                         ^''^.                                                  \n",
            "                         ^  ^.                                                  \n",
            "                         '^^`       .`^\"\"\"^'.                                   \n",
            "                          ..     .^;!iiiiiii!:`                                 \n",
            "                                ^!ii!!!!ii!!!iiI`                               \n",
            "                              ';i!!!!!!!i>>>>i!ii:.                             \n",
            "                             `!i!!!!!!!!!!!!i><i!iI.                            \n",
            "                    .^^`    `ii!!!!!!!!!!!!!!!!>>!iI.                           \n",
            "                    `'.^.  '!i!!!!!!!!!!!!!!!!!!i>!iI.                          \n",
            "                    `' ^' .;i!!!!!!!!!!!!!!!!!!!!i>!i,                          \n",
            "                    .^^`  \"i!!!!!!!!!!!!!!!!!!!!!!i>!i`                         \n",
            "                      .  .!!!!!!!!!!!!!!!!!!!!!!!!!>ii;                         \n",
            "                         ^i!!!!!!!!!!!!!!!!!!!!!!!!i>!i'                        \n",
            "                         ;i!!!!!!!!!!!!!!!!!!!!!!!!!>ii,                        \n",
            "                        .i!!!!!!!!!!!!!!!!!!!!!!!!!!i>!I.                       \n",
            "                        `i!!!!!!!!!!!!!!!!!!!!!!!!!!!>!i.                       \n",
            "                        \"i!!!!!!!!!!!!!!!!!!!!!!!!!!!>!i`                       \n",
            "                        ,i!!!!!!!!!!!!!!!!!!!!!!!!!!!>ii^                       \n",
            "                        ,i!!!!!!!!!!!!!!!!!!!!!!!!!!!i!i^                       \n",
            "                        \"i!!!!!!!!!!!!!!!!!!!!!!!!!!!!!i` .`                    \n",
            "                        'i!!!!!!!!!!!!!!!!!!!!!!!!!!!!iI. .^                    \n",
            "                         ^iiiiiiiiiiiiiiiiiiiiiiiiiiii!'  .^                    \n",
            "                          ',;;;;;:;;;:;;;:;;:;;:;:;;:\".   .^                    \n",
            "                                     .         .          .^                    \n",
            "                              '` ^`'.^   `'.^ .^ `'       .^                    \n",
            "                     `.       '` ^`'.^   `'.^ .^ `'       .^                    \n",
            "                     '        '` ^`'.^   `'.^ .^ `'       .^                    \n",
            "                     .        `'.^''.^   `'.^ .^ `'       ..                    \n",
            "                     ^.       `'.^''.^   `'.^  ^.'`       .'                    \n",
            "                     ^.       ^.'`''.^   `'.^  ^..^       .'                    \n",
            "                     ^.      .^ `'''.^   `'.^  `' ^                             \n",
            "                     ^.      '` ^.'` ^   `'.^  .^ ^.                            \n",
            "                     ^.      ^..^ '` ^   `'.^   ^.'`                            \n",
            "                     ^.     .^ `' .^ ^.  `'.^   `' ^.                           \n",
            "                     ^.     ^'.^. .^ `'  `'.^   .^ '`                           \n",
            "                     `.    '^ ``   ^.'`  `'.^    `' ^.                          \n",
            "                          .\"..^.   `'.^  `'.^    .^..^.                         \n",
            "                          ^' ^'    .^ ^. `'.^     '` ``                         \n",
            "                         '^ '^      ^.'` `'.^      ^' ^'                        \n",
            "                         ^ .^.      `'.^ `'.^      .\"..^                        \n",
            "                         `^^.       .^ `'`'.^       '^^'                        \n",
            "                          '.         ^.'``'.^        ..                         \n",
            "                                     '`.^`'.^                                   \n",
            "                                     .^\"'`'.^                                   \n",
            "                                       . `'.^                                   \n",
            "                                         `'.^                                   \n",
            "                                         `'.^                                   \n",
            "                                         ``'`                                   \n",
            "                                         .`^.                                   \n",
            "\n",
            "\n",
            "\n",
            "\n",
            "\n",
            "\n",
            "\n",
            "\n",
            "\n",
            "\n",
            "\n",
            "\n",
            "\n",
            "\n",
            "\n",
            "Model Description : an icon of a bird with a yellow beak on a branch\n"
          ]
        }
      ]
    },
    {
      "cell_type": "markdown",
      "source": [
        "## Wandb"
      ],
      "metadata": {
        "id": "4XbFgJmT2SK5"
      }
    },
    {
      "cell_type": "markdown",
      "source": [
        "##### FineTune Run in WandB : https://wandb.ai/zengdar/Mistral_Text2image?nw=nwuserzengdar"
      ],
      "metadata": {
        "id": "4yRoIMBiyJzD"
      }
    }
  ],
  "metadata": {
    "colab": {
      "provenance": [],
      "collapsed_sections": [
        "lX618w9xs4Vy",
        "RMB1U1kYtToQ",
        "4XbFgJmT2SK5"
      ],
      "mount_file_id": "1Gk_SAWjriITNgOeJuLwMA0IjDBW5VRz6",
      "authorship_tag": "ABX9TyNKOTtASKwysVlSatRyWemx",
      "include_colab_link": true
    },
    "kernelspec": {
      "display_name": "Python 3",
      "name": "python3"
    },
    "language_info": {
      "name": "python"
    },
    "widgets": {
      "application/vnd.jupyter.widget-state+json": {
        "06d5d01c2530449f9d6064acf85a0d08": {
          "model_module": "@jupyter-widgets/controls",
          "model_name": "HBoxModel",
          "model_module_version": "1.5.0",
          "state": {
            "_dom_classes": [],
            "_model_module": "@jupyter-widgets/controls",
            "_model_module_version": "1.5.0",
            "_model_name": "HBoxModel",
            "_view_count": null,
            "_view_module": "@jupyter-widgets/controls",
            "_view_module_version": "1.5.0",
            "_view_name": "HBoxView",
            "box_style": "",
            "children": [
              "IPY_MODEL_6aa6a30a0bcf422fb6205ee06ace8a9a",
              "IPY_MODEL_4e174d82ea0344a781b5eb0f2eca15d9",
              "IPY_MODEL_3ab54ca77e8e4b9b999d3d8c4508e4ed"
            ],
            "layout": "IPY_MODEL_79153d71b2a141e09a3d787af7fcbda1"
          }
        },
        "6aa6a30a0bcf422fb6205ee06ace8a9a": {
          "model_module": "@jupyter-widgets/controls",
          "model_name": "HTMLModel",
          "model_module_version": "1.5.0",
          "state": {
            "_dom_classes": [],
            "_model_module": "@jupyter-widgets/controls",
            "_model_module_version": "1.5.0",
            "_model_name": "HTMLModel",
            "_view_count": null,
            "_view_module": "@jupyter-widgets/controls",
            "_view_module_version": "1.5.0",
            "_view_name": "HTMLView",
            "description": "",
            "description_tooltip": null,
            "layout": "IPY_MODEL_cf4640aa50ac49d19bebe493860b3dde",
            "placeholder": "​",
            "style": "IPY_MODEL_682761f470ec425889a33c0fb0a49498",
            "value": "Downloading readme: 100%"
          }
        },
        "4e174d82ea0344a781b5eb0f2eca15d9": {
          "model_module": "@jupyter-widgets/controls",
          "model_name": "FloatProgressModel",
          "model_module_version": "1.5.0",
          "state": {
            "_dom_classes": [],
            "_model_module": "@jupyter-widgets/controls",
            "_model_module_version": "1.5.0",
            "_model_name": "FloatProgressModel",
            "_view_count": null,
            "_view_module": "@jupyter-widgets/controls",
            "_view_module_version": "1.5.0",
            "_view_name": "ProgressView",
            "bar_style": "success",
            "description": "",
            "description_tooltip": null,
            "layout": "IPY_MODEL_8c44df23a22f4599bf147b0afeadd5b9",
            "max": 500,
            "min": 0,
            "orientation": "horizontal",
            "style": "IPY_MODEL_37b0993cc4be414d84ac80d75ce1d0c9",
            "value": 500
          }
        },
        "3ab54ca77e8e4b9b999d3d8c4508e4ed": {
          "model_module": "@jupyter-widgets/controls",
          "model_name": "HTMLModel",
          "model_module_version": "1.5.0",
          "state": {
            "_dom_classes": [],
            "_model_module": "@jupyter-widgets/controls",
            "_model_module_version": "1.5.0",
            "_model_name": "HTMLModel",
            "_view_count": null,
            "_view_module": "@jupyter-widgets/controls",
            "_view_module_version": "1.5.0",
            "_view_name": "HTMLView",
            "description": "",
            "description_tooltip": null,
            "layout": "IPY_MODEL_5eb66ae285284606a5f537f3287c6992",
            "placeholder": "​",
            "style": "IPY_MODEL_039de7af84e54d04b234d37134d1c993",
            "value": " 500/500 [00:00&lt;00:00, 6.08kB/s]"
          }
        },
        "79153d71b2a141e09a3d787af7fcbda1": {
          "model_module": "@jupyter-widgets/base",
          "model_name": "LayoutModel",
          "model_module_version": "1.2.0",
          "state": {
            "_model_module": "@jupyter-widgets/base",
            "_model_module_version": "1.2.0",
            "_model_name": "LayoutModel",
            "_view_count": null,
            "_view_module": "@jupyter-widgets/base",
            "_view_module_version": "1.2.0",
            "_view_name": "LayoutView",
            "align_content": null,
            "align_items": null,
            "align_self": null,
            "border": null,
            "bottom": null,
            "display": null,
            "flex": null,
            "flex_flow": null,
            "grid_area": null,
            "grid_auto_columns": null,
            "grid_auto_flow": null,
            "grid_auto_rows": null,
            "grid_column": null,
            "grid_gap": null,
            "grid_row": null,
            "grid_template_areas": null,
            "grid_template_columns": null,
            "grid_template_rows": null,
            "height": null,
            "justify_content": null,
            "justify_items": null,
            "left": null,
            "margin": null,
            "max_height": null,
            "max_width": null,
            "min_height": null,
            "min_width": null,
            "object_fit": null,
            "object_position": null,
            "order": null,
            "overflow": null,
            "overflow_x": null,
            "overflow_y": null,
            "padding": null,
            "right": null,
            "top": null,
            "visibility": null,
            "width": null
          }
        },
        "cf4640aa50ac49d19bebe493860b3dde": {
          "model_module": "@jupyter-widgets/base",
          "model_name": "LayoutModel",
          "model_module_version": "1.2.0",
          "state": {
            "_model_module": "@jupyter-widgets/base",
            "_model_module_version": "1.2.0",
            "_model_name": "LayoutModel",
            "_view_count": null,
            "_view_module": "@jupyter-widgets/base",
            "_view_module_version": "1.2.0",
            "_view_name": "LayoutView",
            "align_content": null,
            "align_items": null,
            "align_self": null,
            "border": null,
            "bottom": null,
            "display": null,
            "flex": null,
            "flex_flow": null,
            "grid_area": null,
            "grid_auto_columns": null,
            "grid_auto_flow": null,
            "grid_auto_rows": null,
            "grid_column": null,
            "grid_gap": null,
            "grid_row": null,
            "grid_template_areas": null,
            "grid_template_columns": null,
            "grid_template_rows": null,
            "height": null,
            "justify_content": null,
            "justify_items": null,
            "left": null,
            "margin": null,
            "max_height": null,
            "max_width": null,
            "min_height": null,
            "min_width": null,
            "object_fit": null,
            "object_position": null,
            "order": null,
            "overflow": null,
            "overflow_x": null,
            "overflow_y": null,
            "padding": null,
            "right": null,
            "top": null,
            "visibility": null,
            "width": null
          }
        },
        "682761f470ec425889a33c0fb0a49498": {
          "model_module": "@jupyter-widgets/controls",
          "model_name": "DescriptionStyleModel",
          "model_module_version": "1.5.0",
          "state": {
            "_model_module": "@jupyter-widgets/controls",
            "_model_module_version": "1.5.0",
            "_model_name": "DescriptionStyleModel",
            "_view_count": null,
            "_view_module": "@jupyter-widgets/base",
            "_view_module_version": "1.2.0",
            "_view_name": "StyleView",
            "description_width": ""
          }
        },
        "8c44df23a22f4599bf147b0afeadd5b9": {
          "model_module": "@jupyter-widgets/base",
          "model_name": "LayoutModel",
          "model_module_version": "1.2.0",
          "state": {
            "_model_module": "@jupyter-widgets/base",
            "_model_module_version": "1.2.0",
            "_model_name": "LayoutModel",
            "_view_count": null,
            "_view_module": "@jupyter-widgets/base",
            "_view_module_version": "1.2.0",
            "_view_name": "LayoutView",
            "align_content": null,
            "align_items": null,
            "align_self": null,
            "border": null,
            "bottom": null,
            "display": null,
            "flex": null,
            "flex_flow": null,
            "grid_area": null,
            "grid_auto_columns": null,
            "grid_auto_flow": null,
            "grid_auto_rows": null,
            "grid_column": null,
            "grid_gap": null,
            "grid_row": null,
            "grid_template_areas": null,
            "grid_template_columns": null,
            "grid_template_rows": null,
            "height": null,
            "justify_content": null,
            "justify_items": null,
            "left": null,
            "margin": null,
            "max_height": null,
            "max_width": null,
            "min_height": null,
            "min_width": null,
            "object_fit": null,
            "object_position": null,
            "order": null,
            "overflow": null,
            "overflow_x": null,
            "overflow_y": null,
            "padding": null,
            "right": null,
            "top": null,
            "visibility": null,
            "width": null
          }
        },
        "37b0993cc4be414d84ac80d75ce1d0c9": {
          "model_module": "@jupyter-widgets/controls",
          "model_name": "ProgressStyleModel",
          "model_module_version": "1.5.0",
          "state": {
            "_model_module": "@jupyter-widgets/controls",
            "_model_module_version": "1.5.0",
            "_model_name": "ProgressStyleModel",
            "_view_count": null,
            "_view_module": "@jupyter-widgets/base",
            "_view_module_version": "1.2.0",
            "_view_name": "StyleView",
            "bar_color": null,
            "description_width": ""
          }
        },
        "5eb66ae285284606a5f537f3287c6992": {
          "model_module": "@jupyter-widgets/base",
          "model_name": "LayoutModel",
          "model_module_version": "1.2.0",
          "state": {
            "_model_module": "@jupyter-widgets/base",
            "_model_module_version": "1.2.0",
            "_model_name": "LayoutModel",
            "_view_count": null,
            "_view_module": "@jupyter-widgets/base",
            "_view_module_version": "1.2.0",
            "_view_name": "LayoutView",
            "align_content": null,
            "align_items": null,
            "align_self": null,
            "border": null,
            "bottom": null,
            "display": null,
            "flex": null,
            "flex_flow": null,
            "grid_area": null,
            "grid_auto_columns": null,
            "grid_auto_flow": null,
            "grid_auto_rows": null,
            "grid_column": null,
            "grid_gap": null,
            "grid_row": null,
            "grid_template_areas": null,
            "grid_template_columns": null,
            "grid_template_rows": null,
            "height": null,
            "justify_content": null,
            "justify_items": null,
            "left": null,
            "margin": null,
            "max_height": null,
            "max_width": null,
            "min_height": null,
            "min_width": null,
            "object_fit": null,
            "object_position": null,
            "order": null,
            "overflow": null,
            "overflow_x": null,
            "overflow_y": null,
            "padding": null,
            "right": null,
            "top": null,
            "visibility": null,
            "width": null
          }
        },
        "039de7af84e54d04b234d37134d1c993": {
          "model_module": "@jupyter-widgets/controls",
          "model_name": "DescriptionStyleModel",
          "model_module_version": "1.5.0",
          "state": {
            "_model_module": "@jupyter-widgets/controls",
            "_model_module_version": "1.5.0",
            "_model_name": "DescriptionStyleModel",
            "_view_count": null,
            "_view_module": "@jupyter-widgets/base",
            "_view_module_version": "1.2.0",
            "_view_name": "StyleView",
            "description_width": ""
          }
        },
        "8afb6c25de38457397eb1cec585eff64": {
          "model_module": "@jupyter-widgets/controls",
          "model_name": "HBoxModel",
          "model_module_version": "1.5.0",
          "state": {
            "_dom_classes": [],
            "_model_module": "@jupyter-widgets/controls",
            "_model_module_version": "1.5.0",
            "_model_name": "HBoxModel",
            "_view_count": null,
            "_view_module": "@jupyter-widgets/controls",
            "_view_module_version": "1.5.0",
            "_view_name": "HBoxView",
            "box_style": "",
            "children": [
              "IPY_MODEL_258ddc63643343e595fb40621dbd2311",
              "IPY_MODEL_308b582dae0c41b895cf25670d460779",
              "IPY_MODEL_bc161cc8ee7344c9a97bf22df108e1c9"
            ],
            "layout": "IPY_MODEL_42564767161c48f89aeeffded558f8a9"
          }
        },
        "258ddc63643343e595fb40621dbd2311": {
          "model_module": "@jupyter-widgets/controls",
          "model_name": "HTMLModel",
          "model_module_version": "1.5.0",
          "state": {
            "_dom_classes": [],
            "_model_module": "@jupyter-widgets/controls",
            "_model_module_version": "1.5.0",
            "_model_name": "HTMLModel",
            "_view_count": null,
            "_view_module": "@jupyter-widgets/controls",
            "_view_module_version": "1.5.0",
            "_view_name": "HTMLView",
            "description": "",
            "description_tooltip": null,
            "layout": "IPY_MODEL_ade3e48140524633b52b7a9a516b1507",
            "placeholder": "​",
            "style": "IPY_MODEL_1fbdaa45aa0e4b8eb94ed764c8206231",
            "value": "Downloading data: 100%"
          }
        },
        "308b582dae0c41b895cf25670d460779": {
          "model_module": "@jupyter-widgets/controls",
          "model_name": "FloatProgressModel",
          "model_module_version": "1.5.0",
          "state": {
            "_dom_classes": [],
            "_model_module": "@jupyter-widgets/controls",
            "_model_module_version": "1.5.0",
            "_model_name": "FloatProgressModel",
            "_view_count": null,
            "_view_module": "@jupyter-widgets/controls",
            "_view_module_version": "1.5.0",
            "_view_name": "ProgressView",
            "bar_style": "success",
            "description": "",
            "description_tooltip": null,
            "layout": "IPY_MODEL_4de4d861fb7b47de90b86c7e67818102",
            "max": 19766635,
            "min": 0,
            "orientation": "horizontal",
            "style": "IPY_MODEL_de52064d005442d38ff482ddef96fab7",
            "value": 19766635
          }
        },
        "bc161cc8ee7344c9a97bf22df108e1c9": {
          "model_module": "@jupyter-widgets/controls",
          "model_name": "HTMLModel",
          "model_module_version": "1.5.0",
          "state": {
            "_dom_classes": [],
            "_model_module": "@jupyter-widgets/controls",
            "_model_module_version": "1.5.0",
            "_model_name": "HTMLModel",
            "_view_count": null,
            "_view_module": "@jupyter-widgets/controls",
            "_view_module_version": "1.5.0",
            "_view_name": "HTMLView",
            "description": "",
            "description_tooltip": null,
            "layout": "IPY_MODEL_f314bebc21674e05b8a3bb8c820a13e9",
            "placeholder": "​",
            "style": "IPY_MODEL_27d1589cfdff472ab6ec4810d21ea094",
            "value": " 19.8M/19.8M [00:00&lt;00:00, 23.7MB/s]"
          }
        },
        "42564767161c48f89aeeffded558f8a9": {
          "model_module": "@jupyter-widgets/base",
          "model_name": "LayoutModel",
          "model_module_version": "1.2.0",
          "state": {
            "_model_module": "@jupyter-widgets/base",
            "_model_module_version": "1.2.0",
            "_model_name": "LayoutModel",
            "_view_count": null,
            "_view_module": "@jupyter-widgets/base",
            "_view_module_version": "1.2.0",
            "_view_name": "LayoutView",
            "align_content": null,
            "align_items": null,
            "align_self": null,
            "border": null,
            "bottom": null,
            "display": null,
            "flex": null,
            "flex_flow": null,
            "grid_area": null,
            "grid_auto_columns": null,
            "grid_auto_flow": null,
            "grid_auto_rows": null,
            "grid_column": null,
            "grid_gap": null,
            "grid_row": null,
            "grid_template_areas": null,
            "grid_template_columns": null,
            "grid_template_rows": null,
            "height": null,
            "justify_content": null,
            "justify_items": null,
            "left": null,
            "margin": null,
            "max_height": null,
            "max_width": null,
            "min_height": null,
            "min_width": null,
            "object_fit": null,
            "object_position": null,
            "order": null,
            "overflow": null,
            "overflow_x": null,
            "overflow_y": null,
            "padding": null,
            "right": null,
            "top": null,
            "visibility": null,
            "width": null
          }
        },
        "ade3e48140524633b52b7a9a516b1507": {
          "model_module": "@jupyter-widgets/base",
          "model_name": "LayoutModel",
          "model_module_version": "1.2.0",
          "state": {
            "_model_module": "@jupyter-widgets/base",
            "_model_module_version": "1.2.0",
            "_model_name": "LayoutModel",
            "_view_count": null,
            "_view_module": "@jupyter-widgets/base",
            "_view_module_version": "1.2.0",
            "_view_name": "LayoutView",
            "align_content": null,
            "align_items": null,
            "align_self": null,
            "border": null,
            "bottom": null,
            "display": null,
            "flex": null,
            "flex_flow": null,
            "grid_area": null,
            "grid_auto_columns": null,
            "grid_auto_flow": null,
            "grid_auto_rows": null,
            "grid_column": null,
            "grid_gap": null,
            "grid_row": null,
            "grid_template_areas": null,
            "grid_template_columns": null,
            "grid_template_rows": null,
            "height": null,
            "justify_content": null,
            "justify_items": null,
            "left": null,
            "margin": null,
            "max_height": null,
            "max_width": null,
            "min_height": null,
            "min_width": null,
            "object_fit": null,
            "object_position": null,
            "order": null,
            "overflow": null,
            "overflow_x": null,
            "overflow_y": null,
            "padding": null,
            "right": null,
            "top": null,
            "visibility": null,
            "width": null
          }
        },
        "1fbdaa45aa0e4b8eb94ed764c8206231": {
          "model_module": "@jupyter-widgets/controls",
          "model_name": "DescriptionStyleModel",
          "model_module_version": "1.5.0",
          "state": {
            "_model_module": "@jupyter-widgets/controls",
            "_model_module_version": "1.5.0",
            "_model_name": "DescriptionStyleModel",
            "_view_count": null,
            "_view_module": "@jupyter-widgets/base",
            "_view_module_version": "1.2.0",
            "_view_name": "StyleView",
            "description_width": ""
          }
        },
        "4de4d861fb7b47de90b86c7e67818102": {
          "model_module": "@jupyter-widgets/base",
          "model_name": "LayoutModel",
          "model_module_version": "1.2.0",
          "state": {
            "_model_module": "@jupyter-widgets/base",
            "_model_module_version": "1.2.0",
            "_model_name": "LayoutModel",
            "_view_count": null,
            "_view_module": "@jupyter-widgets/base",
            "_view_module_version": "1.2.0",
            "_view_name": "LayoutView",
            "align_content": null,
            "align_items": null,
            "align_self": null,
            "border": null,
            "bottom": null,
            "display": null,
            "flex": null,
            "flex_flow": null,
            "grid_area": null,
            "grid_auto_columns": null,
            "grid_auto_flow": null,
            "grid_auto_rows": null,
            "grid_column": null,
            "grid_gap": null,
            "grid_row": null,
            "grid_template_areas": null,
            "grid_template_columns": null,
            "grid_template_rows": null,
            "height": null,
            "justify_content": null,
            "justify_items": null,
            "left": null,
            "margin": null,
            "max_height": null,
            "max_width": null,
            "min_height": null,
            "min_width": null,
            "object_fit": null,
            "object_position": null,
            "order": null,
            "overflow": null,
            "overflow_x": null,
            "overflow_y": null,
            "padding": null,
            "right": null,
            "top": null,
            "visibility": null,
            "width": null
          }
        },
        "de52064d005442d38ff482ddef96fab7": {
          "model_module": "@jupyter-widgets/controls",
          "model_name": "ProgressStyleModel",
          "model_module_version": "1.5.0",
          "state": {
            "_model_module": "@jupyter-widgets/controls",
            "_model_module_version": "1.5.0",
            "_model_name": "ProgressStyleModel",
            "_view_count": null,
            "_view_module": "@jupyter-widgets/base",
            "_view_module_version": "1.2.0",
            "_view_name": "StyleView",
            "bar_color": null,
            "description_width": ""
          }
        },
        "f314bebc21674e05b8a3bb8c820a13e9": {
          "model_module": "@jupyter-widgets/base",
          "model_name": "LayoutModel",
          "model_module_version": "1.2.0",
          "state": {
            "_model_module": "@jupyter-widgets/base",
            "_model_module_version": "1.2.0",
            "_model_name": "LayoutModel",
            "_view_count": null,
            "_view_module": "@jupyter-widgets/base",
            "_view_module_version": "1.2.0",
            "_view_name": "LayoutView",
            "align_content": null,
            "align_items": null,
            "align_self": null,
            "border": null,
            "bottom": null,
            "display": null,
            "flex": null,
            "flex_flow": null,
            "grid_area": null,
            "grid_auto_columns": null,
            "grid_auto_flow": null,
            "grid_auto_rows": null,
            "grid_column": null,
            "grid_gap": null,
            "grid_row": null,
            "grid_template_areas": null,
            "grid_template_columns": null,
            "grid_template_rows": null,
            "height": null,
            "justify_content": null,
            "justify_items": null,
            "left": null,
            "margin": null,
            "max_height": null,
            "max_width": null,
            "min_height": null,
            "min_width": null,
            "object_fit": null,
            "object_position": null,
            "order": null,
            "overflow": null,
            "overflow_x": null,
            "overflow_y": null,
            "padding": null,
            "right": null,
            "top": null,
            "visibility": null,
            "width": null
          }
        },
        "27d1589cfdff472ab6ec4810d21ea094": {
          "model_module": "@jupyter-widgets/controls",
          "model_name": "DescriptionStyleModel",
          "model_module_version": "1.5.0",
          "state": {
            "_model_module": "@jupyter-widgets/controls",
            "_model_module_version": "1.5.0",
            "_model_name": "DescriptionStyleModel",
            "_view_count": null,
            "_view_module": "@jupyter-widgets/base",
            "_view_module_version": "1.2.0",
            "_view_name": "StyleView",
            "description_width": ""
          }
        },
        "7ec6e17eb3c840b98e376c85f26a5ead": {
          "model_module": "@jupyter-widgets/controls",
          "model_name": "HBoxModel",
          "model_module_version": "1.5.0",
          "state": {
            "_dom_classes": [],
            "_model_module": "@jupyter-widgets/controls",
            "_model_module_version": "1.5.0",
            "_model_name": "HBoxModel",
            "_view_count": null,
            "_view_module": "@jupyter-widgets/controls",
            "_view_module_version": "1.5.0",
            "_view_name": "HBoxView",
            "box_style": "",
            "children": [
              "IPY_MODEL_af789ec034a0425494debf2cdba7ee57",
              "IPY_MODEL_f2953a907a8b4f5fa9673a398416b6d7",
              "IPY_MODEL_e98cd788c59a43688d23a7bf60fdf64d"
            ],
            "layout": "IPY_MODEL_1ea14d5f4bd54571b22bc847a84ec887"
          }
        },
        "af789ec034a0425494debf2cdba7ee57": {
          "model_module": "@jupyter-widgets/controls",
          "model_name": "HTMLModel",
          "model_module_version": "1.5.0",
          "state": {
            "_dom_classes": [],
            "_model_module": "@jupyter-widgets/controls",
            "_model_module_version": "1.5.0",
            "_model_name": "HTMLModel",
            "_view_count": null,
            "_view_module": "@jupyter-widgets/controls",
            "_view_module_version": "1.5.0",
            "_view_name": "HTMLView",
            "description": "",
            "description_tooltip": null,
            "layout": "IPY_MODEL_9bd5ec47ab0a485d9389c918af068fc8",
            "placeholder": "​",
            "style": "IPY_MODEL_32e3def598404d25968e442cfca68ef8",
            "value": "Generating train split: 100%"
          }
        },
        "f2953a907a8b4f5fa9673a398416b6d7": {
          "model_module": "@jupyter-widgets/controls",
          "model_name": "FloatProgressModel",
          "model_module_version": "1.5.0",
          "state": {
            "_dom_classes": [],
            "_model_module": "@jupyter-widgets/controls",
            "_model_module_version": "1.5.0",
            "_model_name": "FloatProgressModel",
            "_view_count": null,
            "_view_module": "@jupyter-widgets/controls",
            "_view_module_version": "1.5.0",
            "_view_name": "ProgressView",
            "bar_style": "success",
            "description": "",
            "description_tooltip": null,
            "layout": "IPY_MODEL_4739e966014e433a90e48f82676f24e4",
            "max": 833,
            "min": 0,
            "orientation": "horizontal",
            "style": "IPY_MODEL_f6e48505beae4c4fabca91c77059aa7f",
            "value": 833
          }
        },
        "e98cd788c59a43688d23a7bf60fdf64d": {
          "model_module": "@jupyter-widgets/controls",
          "model_name": "HTMLModel",
          "model_module_version": "1.5.0",
          "state": {
            "_dom_classes": [],
            "_model_module": "@jupyter-widgets/controls",
            "_model_module_version": "1.5.0",
            "_model_name": "HTMLModel",
            "_view_count": null,
            "_view_module": "@jupyter-widgets/controls",
            "_view_module_version": "1.5.0",
            "_view_name": "HTMLView",
            "description": "",
            "description_tooltip": null,
            "layout": "IPY_MODEL_ba564cc2c94c4a43b804745b9216013e",
            "placeholder": "​",
            "style": "IPY_MODEL_f56594cdb6fe4ef28467372ff5e5e762",
            "value": " 833/833 [00:00&lt;00:00, 3068.97 examples/s]"
          }
        },
        "1ea14d5f4bd54571b22bc847a84ec887": {
          "model_module": "@jupyter-widgets/base",
          "model_name": "LayoutModel",
          "model_module_version": "1.2.0",
          "state": {
            "_model_module": "@jupyter-widgets/base",
            "_model_module_version": "1.2.0",
            "_model_name": "LayoutModel",
            "_view_count": null,
            "_view_module": "@jupyter-widgets/base",
            "_view_module_version": "1.2.0",
            "_view_name": "LayoutView",
            "align_content": null,
            "align_items": null,
            "align_self": null,
            "border": null,
            "bottom": null,
            "display": null,
            "flex": null,
            "flex_flow": null,
            "grid_area": null,
            "grid_auto_columns": null,
            "grid_auto_flow": null,
            "grid_auto_rows": null,
            "grid_column": null,
            "grid_gap": null,
            "grid_row": null,
            "grid_template_areas": null,
            "grid_template_columns": null,
            "grid_template_rows": null,
            "height": null,
            "justify_content": null,
            "justify_items": null,
            "left": null,
            "margin": null,
            "max_height": null,
            "max_width": null,
            "min_height": null,
            "min_width": null,
            "object_fit": null,
            "object_position": null,
            "order": null,
            "overflow": null,
            "overflow_x": null,
            "overflow_y": null,
            "padding": null,
            "right": null,
            "top": null,
            "visibility": null,
            "width": null
          }
        },
        "9bd5ec47ab0a485d9389c918af068fc8": {
          "model_module": "@jupyter-widgets/base",
          "model_name": "LayoutModel",
          "model_module_version": "1.2.0",
          "state": {
            "_model_module": "@jupyter-widgets/base",
            "_model_module_version": "1.2.0",
            "_model_name": "LayoutModel",
            "_view_count": null,
            "_view_module": "@jupyter-widgets/base",
            "_view_module_version": "1.2.0",
            "_view_name": "LayoutView",
            "align_content": null,
            "align_items": null,
            "align_self": null,
            "border": null,
            "bottom": null,
            "display": null,
            "flex": null,
            "flex_flow": null,
            "grid_area": null,
            "grid_auto_columns": null,
            "grid_auto_flow": null,
            "grid_auto_rows": null,
            "grid_column": null,
            "grid_gap": null,
            "grid_row": null,
            "grid_template_areas": null,
            "grid_template_columns": null,
            "grid_template_rows": null,
            "height": null,
            "justify_content": null,
            "justify_items": null,
            "left": null,
            "margin": null,
            "max_height": null,
            "max_width": null,
            "min_height": null,
            "min_width": null,
            "object_fit": null,
            "object_position": null,
            "order": null,
            "overflow": null,
            "overflow_x": null,
            "overflow_y": null,
            "padding": null,
            "right": null,
            "top": null,
            "visibility": null,
            "width": null
          }
        },
        "32e3def598404d25968e442cfca68ef8": {
          "model_module": "@jupyter-widgets/controls",
          "model_name": "DescriptionStyleModel",
          "model_module_version": "1.5.0",
          "state": {
            "_model_module": "@jupyter-widgets/controls",
            "_model_module_version": "1.5.0",
            "_model_name": "DescriptionStyleModel",
            "_view_count": null,
            "_view_module": "@jupyter-widgets/base",
            "_view_module_version": "1.2.0",
            "_view_name": "StyleView",
            "description_width": ""
          }
        },
        "4739e966014e433a90e48f82676f24e4": {
          "model_module": "@jupyter-widgets/base",
          "model_name": "LayoutModel",
          "model_module_version": "1.2.0",
          "state": {
            "_model_module": "@jupyter-widgets/base",
            "_model_module_version": "1.2.0",
            "_model_name": "LayoutModel",
            "_view_count": null,
            "_view_module": "@jupyter-widgets/base",
            "_view_module_version": "1.2.0",
            "_view_name": "LayoutView",
            "align_content": null,
            "align_items": null,
            "align_self": null,
            "border": null,
            "bottom": null,
            "display": null,
            "flex": null,
            "flex_flow": null,
            "grid_area": null,
            "grid_auto_columns": null,
            "grid_auto_flow": null,
            "grid_auto_rows": null,
            "grid_column": null,
            "grid_gap": null,
            "grid_row": null,
            "grid_template_areas": null,
            "grid_template_columns": null,
            "grid_template_rows": null,
            "height": null,
            "justify_content": null,
            "justify_items": null,
            "left": null,
            "margin": null,
            "max_height": null,
            "max_width": null,
            "min_height": null,
            "min_width": null,
            "object_fit": null,
            "object_position": null,
            "order": null,
            "overflow": null,
            "overflow_x": null,
            "overflow_y": null,
            "padding": null,
            "right": null,
            "top": null,
            "visibility": null,
            "width": null
          }
        },
        "f6e48505beae4c4fabca91c77059aa7f": {
          "model_module": "@jupyter-widgets/controls",
          "model_name": "ProgressStyleModel",
          "model_module_version": "1.5.0",
          "state": {
            "_model_module": "@jupyter-widgets/controls",
            "_model_module_version": "1.5.0",
            "_model_name": "ProgressStyleModel",
            "_view_count": null,
            "_view_module": "@jupyter-widgets/base",
            "_view_module_version": "1.2.0",
            "_view_name": "StyleView",
            "bar_color": null,
            "description_width": ""
          }
        },
        "ba564cc2c94c4a43b804745b9216013e": {
          "model_module": "@jupyter-widgets/base",
          "model_name": "LayoutModel",
          "model_module_version": "1.2.0",
          "state": {
            "_model_module": "@jupyter-widgets/base",
            "_model_module_version": "1.2.0",
            "_model_name": "LayoutModel",
            "_view_count": null,
            "_view_module": "@jupyter-widgets/base",
            "_view_module_version": "1.2.0",
            "_view_name": "LayoutView",
            "align_content": null,
            "align_items": null,
            "align_self": null,
            "border": null,
            "bottom": null,
            "display": null,
            "flex": null,
            "flex_flow": null,
            "grid_area": null,
            "grid_auto_columns": null,
            "grid_auto_flow": null,
            "grid_auto_rows": null,
            "grid_column": null,
            "grid_gap": null,
            "grid_row": null,
            "grid_template_areas": null,
            "grid_template_columns": null,
            "grid_template_rows": null,
            "height": null,
            "justify_content": null,
            "justify_items": null,
            "left": null,
            "margin": null,
            "max_height": null,
            "max_width": null,
            "min_height": null,
            "min_width": null,
            "object_fit": null,
            "object_position": null,
            "order": null,
            "overflow": null,
            "overflow_x": null,
            "overflow_y": null,
            "padding": null,
            "right": null,
            "top": null,
            "visibility": null,
            "width": null
          }
        },
        "f56594cdb6fe4ef28467372ff5e5e762": {
          "model_module": "@jupyter-widgets/controls",
          "model_name": "DescriptionStyleModel",
          "model_module_version": "1.5.0",
          "state": {
            "_model_module": "@jupyter-widgets/controls",
            "_model_module_version": "1.5.0",
            "_model_name": "DescriptionStyleModel",
            "_view_count": null,
            "_view_module": "@jupyter-widgets/base",
            "_view_module_version": "1.2.0",
            "_view_name": "StyleView",
            "description_width": ""
          }
        }
      }
    }
  },
  "nbformat": 4,
  "nbformat_minor": 0
}